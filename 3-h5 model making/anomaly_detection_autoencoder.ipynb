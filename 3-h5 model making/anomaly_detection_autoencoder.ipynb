{
 "cells": [
  {
   "cell_type": "code",
   "execution_count": 2,
   "id": "d207dc34",
   "metadata": {},
   "outputs": [
    {
     "name": "stdout",
     "output_type": "stream",
     "text": [
      "Collecting tensorflow\n",
      "  Downloading tensorflow-2.13.0-cp310-cp310-macosx_12_0_arm64.whl (1.9 kB)\n",
      "Collecting tensorflow-macos==2.13.0\n",
      "  Downloading tensorflow_macos-2.13.0-cp310-cp310-macosx_12_0_arm64.whl (189.3 MB)\n",
      "\u001b[2K     \u001b[90m━━━━━━━━━━━━━━━━━━━━━━━━━━━━━━━━━━━━━━━\u001b[0m \u001b[32m189.3/189.3 MB\u001b[0m \u001b[31m1.3 MB/s\u001b[0m eta \u001b[36m0:00:00\u001b[0m00:01\u001b[0m00:04\u001b[0m\n",
      "\u001b[?25hCollecting gast<=0.4.0,>=0.2.1\n",
      "  Downloading gast-0.4.0-py3-none-any.whl (9.8 kB)\n",
      "Collecting absl-py>=1.0.0\n",
      "  Downloading absl_py-1.4.0-py3-none-any.whl (126 kB)\n",
      "\u001b[2K     \u001b[90m━━━━━━━━━━━━━━━━━━━━━━━━━━━━━━━━━━━━━━━\u001b[0m \u001b[32m126.5/126.5 kB\u001b[0m \u001b[31m1.4 MB/s\u001b[0m eta \u001b[36m0:00:00\u001b[0ma \u001b[36m0:00:01\u001b[0m\n",
      "\u001b[?25hCollecting termcolor>=1.1.0\n",
      "  Using cached termcolor-2.3.0-py3-none-any.whl (6.9 kB)\n",
      "Collecting libclang>=13.0.0\n",
      "  Downloading libclang-16.0.6-py2.py3-none-macosx_11_0_arm64.whl (20.6 MB)\n",
      "\u001b[2K     \u001b[90m━━━━━━━━━━━━━━━━━━━━━━━━━━━━━━━━━━━━━━━━\u001b[0m \u001b[32m20.6/20.6 MB\u001b[0m \u001b[31m1.3 MB/s\u001b[0m eta \u001b[36m0:00:00\u001b[0m00:01\u001b[0m00:01\u001b[0m\n",
      "\u001b[?25hCollecting flatbuffers>=23.1.21\n",
      "  Downloading flatbuffers-23.5.26-py2.py3-none-any.whl (26 kB)\n",
      "Collecting opt-einsum>=2.3.2\n",
      "  Downloading opt_einsum-3.3.0-py3-none-any.whl (65 kB)\n",
      "\u001b[2K     \u001b[90m━━━━━━━━━━━━━━━━━━━━━━━━━━━━━━━━━━━━━━━━\u001b[0m \u001b[32m65.5/65.5 kB\u001b[0m \u001b[31m1.6 MB/s\u001b[0m eta \u001b[36m0:00:00\u001b[0m\n",
      "\u001b[?25hCollecting tensorboard<2.14,>=2.13\n",
      "  Downloading tensorboard-2.13.0-py3-none-any.whl (5.6 MB)\n",
      "\u001b[2K     \u001b[90m━━━━━━━━━━━━━━━━━━━━━━━━━━━━━━━━━━━━━━━━\u001b[0m \u001b[32m5.6/5.6 MB\u001b[0m \u001b[31m1.4 MB/s\u001b[0m eta \u001b[36m0:00:00\u001b[0m00:01\u001b[0m00:01\u001b[0m\n",
      "\u001b[?25hRequirement already satisfied: protobuf!=4.21.0,!=4.21.1,!=4.21.2,!=4.21.3,!=4.21.4,!=4.21.5,<5.0.0dev,>=3.20.3 in ./anaconda3/lib/python3.10/site-packages (from tensorflow-macos==2.13.0->tensorflow) (3.20.3)\n",
      "Requirement already satisfied: h5py>=2.9.0 in ./anaconda3/lib/python3.10/site-packages (from tensorflow-macos==2.13.0->tensorflow) (3.7.0)\n",
      "Collecting keras<2.14,>=2.13.1\n",
      "  Downloading keras-2.13.1-py3-none-any.whl (1.7 MB)\n",
      "\u001b[2K     \u001b[90m━━━━━━━━━━━━━━━━━━━━━━━━━━━━━━━━━━━━━━━━\u001b[0m \u001b[32m1.7/1.7 MB\u001b[0m \u001b[31m1.4 MB/s\u001b[0m eta \u001b[36m0:00:00\u001b[0m00:01\u001b[0m00:01\u001b[0m\n",
      "\u001b[?25hRequirement already satisfied: setuptools in ./anaconda3/lib/python3.10/site-packages (from tensorflow-macos==2.13.0->tensorflow) (65.6.3)\n",
      "Collecting google-pasta>=0.1.1\n",
      "  Downloading google_pasta-0.2.0-py3-none-any.whl (57 kB)\n",
      "\u001b[2K     \u001b[90m━━━━━━━━━━━━━━━━━━━━━━━━━━━━━━━━━━━━━━━━\u001b[0m \u001b[32m57.5/57.5 kB\u001b[0m \u001b[31m1.4 MB/s\u001b[0m eta \u001b[36m0:00:00\u001b[0m\n",
      "\u001b[?25hRequirement already satisfied: wrapt>=1.11.0 in ./anaconda3/lib/python3.10/site-packages (from tensorflow-macos==2.13.0->tensorflow) (1.14.1)\n",
      "Collecting astunparse>=1.6.0\n",
      "  Downloading astunparse-1.6.3-py2.py3-none-any.whl (12 kB)\n",
      "Requirement already satisfied: six>=1.12.0 in ./anaconda3/lib/python3.10/site-packages (from tensorflow-macos==2.13.0->tensorflow) (1.16.0)\n",
      "Requirement already satisfied: numpy<=1.24.3,>=1.22 in ./anaconda3/lib/python3.10/site-packages (from tensorflow-macos==2.13.0->tensorflow) (1.23.5)\n",
      "Requirement already satisfied: typing-extensions<4.6.0,>=3.6.6 in ./anaconda3/lib/python3.10/site-packages (from tensorflow-macos==2.13.0->tensorflow) (4.4.0)\n",
      "Collecting grpcio<2.0,>=1.24.3\n",
      "  Downloading grpcio-1.56.2-cp310-cp310-macosx_12_0_universal2.whl (8.8 MB)\n",
      "\u001b[2K     \u001b[90m━━━━━━━━━━━━━━━━━━━━━━━━━━━━━━━━━━━━━━━━\u001b[0m \u001b[32m8.8/8.8 MB\u001b[0m \u001b[31m1.3 MB/s\u001b[0m eta \u001b[36m0:00:00\u001b[0m00:01\u001b[0m00:01\u001b[0m\n",
      "\u001b[?25hRequirement already satisfied: packaging in ./anaconda3/lib/python3.10/site-packages (from tensorflow-macos==2.13.0->tensorflow) (22.0)\n",
      "Collecting tensorflow-estimator<2.14,>=2.13.0\n",
      "  Downloading tensorflow_estimator-2.13.0-py2.py3-none-any.whl (440 kB)\n",
      "\u001b[2K     \u001b[90m━━━━━━━━━━━━━━━━━━━━━━━━━━━━━━━━━━━━━\u001b[0m \u001b[32m440.8/440.8 kB\u001b[0m \u001b[31m623.8 kB/s\u001b[0m eta \u001b[36m0:00:00\u001b[0ma \u001b[36m0:00:01\u001b[0m\n",
      "\u001b[?25hRequirement already satisfied: wheel<1.0,>=0.23.0 in ./anaconda3/lib/python3.10/site-packages (from astunparse>=1.6.0->tensorflow-macos==2.13.0->tensorflow) (0.38.4)\n",
      "Requirement already satisfied: markdown>=2.6.8 in ./anaconda3/lib/python3.10/site-packages (from tensorboard<2.14,>=2.13->tensorflow-macos==2.13.0->tensorflow) (3.4.1)\n",
      "Collecting google-auth<3,>=1.6.3\n",
      "  Downloading google_auth-2.22.0-py2.py3-none-any.whl (181 kB)\n",
      "\u001b[2K     \u001b[90m━━━━━━━━━━━━━━━━━━━━━━━━━━━━━━━━━━━━━\u001b[0m \u001b[32m181.8/181.8 kB\u001b[0m \u001b[31m704.2 kB/s\u001b[0m eta \u001b[36m0:00:00\u001b[0ma \u001b[36m0:00:01\u001b[0m\n",
      "\u001b[?25hRequirement already satisfied: requests<3,>=2.21.0 in ./anaconda3/lib/python3.10/site-packages (from tensorboard<2.14,>=2.13->tensorflow-macos==2.13.0->tensorflow) (2.28.1)\n",
      "Requirement already satisfied: werkzeug>=1.0.1 in ./anaconda3/lib/python3.10/site-packages (from tensorboard<2.14,>=2.13->tensorflow-macos==2.13.0->tensorflow) (2.2.2)\n",
      "Collecting google-auth-oauthlib<1.1,>=0.5\n",
      "  Downloading google_auth_oauthlib-1.0.0-py2.py3-none-any.whl (18 kB)\n",
      "Collecting tensorboard-data-server<0.8.0,>=0.7.0\n",
      "  Downloading tensorboard_data_server-0.7.1-py3-none-any.whl (2.4 kB)\n",
      "Collecting cachetools<6.0,>=2.0.0\n",
      "  Downloading cachetools-5.3.1-py3-none-any.whl (9.3 kB)\n",
      "Requirement already satisfied: urllib3<2.0 in ./anaconda3/lib/python3.10/site-packages (from google-auth<3,>=1.6.3->tensorboard<2.14,>=2.13->tensorflow-macos==2.13.0->tensorflow) (1.26.14)\n",
      "Requirement already satisfied: pyasn1-modules>=0.2.1 in ./anaconda3/lib/python3.10/site-packages (from google-auth<3,>=1.6.3->tensorboard<2.14,>=2.13->tensorflow-macos==2.13.0->tensorflow) (0.2.8)\n",
      "Collecting rsa<5,>=3.1.4\n",
      "  Downloading rsa-4.9-py3-none-any.whl (34 kB)\n",
      "Collecting requests-oauthlib>=0.7.0\n",
      "  Downloading requests_oauthlib-1.3.1-py2.py3-none-any.whl (23 kB)\n",
      "Requirement already satisfied: charset-normalizer<3,>=2 in ./anaconda3/lib/python3.10/site-packages (from requests<3,>=2.21.0->tensorboard<2.14,>=2.13->tensorflow-macos==2.13.0->tensorflow) (2.0.4)\n",
      "Requirement already satisfied: certifi>=2017.4.17 in ./anaconda3/lib/python3.10/site-packages (from requests<3,>=2.21.0->tensorboard<2.14,>=2.13->tensorflow-macos==2.13.0->tensorflow) (2022.12.7)\n",
      "Requirement already satisfied: idna<4,>=2.5 in ./anaconda3/lib/python3.10/site-packages (from requests<3,>=2.21.0->tensorboard<2.14,>=2.13->tensorflow-macos==2.13.0->tensorflow) (3.4)\n",
      "Requirement already satisfied: MarkupSafe>=2.1.1 in ./anaconda3/lib/python3.10/site-packages (from werkzeug>=1.0.1->tensorboard<2.14,>=2.13->tensorflow-macos==2.13.0->tensorflow) (2.1.1)\n",
      "Requirement already satisfied: pyasn1<0.5.0,>=0.4.6 in ./anaconda3/lib/python3.10/site-packages (from pyasn1-modules>=0.2.1->google-auth<3,>=1.6.3->tensorboard<2.14,>=2.13->tensorflow-macos==2.13.0->tensorflow) (0.4.8)\n",
      "Collecting oauthlib>=3.0.0\n",
      "  Downloading oauthlib-3.2.2-py3-none-any.whl (151 kB)\n",
      "\u001b[2K     \u001b[90m━━━━━━━━━━━━━━━━━━━━━━━━━━━━━━━━━━━━━━━\u001b[0m \u001b[32m151.7/151.7 kB\u001b[0m \u001b[31m1.5 MB/s\u001b[0m eta \u001b[36m0:00:00\u001b[0ma \u001b[36m0:00:01\u001b[0m\n",
      "\u001b[?25hInstalling collected packages: libclang, flatbuffers, termcolor, tensorflow-estimator, tensorboard-data-server, rsa, opt-einsum, oauthlib, keras, grpcio, google-pasta, gast, cachetools, astunparse, absl-py, requests-oauthlib, google-auth, google-auth-oauthlib, tensorboard, tensorflow-macos, tensorflow\n",
      "Successfully installed absl-py-1.4.0 astunparse-1.6.3 cachetools-5.3.1 flatbuffers-23.5.26 gast-0.4.0 google-auth-2.22.0 google-auth-oauthlib-1.0.0 google-pasta-0.2.0 grpcio-1.56.2 keras-2.13.1 libclang-16.0.6 oauthlib-3.2.2 opt-einsum-3.3.0 requests-oauthlib-1.3.1 rsa-4.9 tensorboard-2.13.0 tensorboard-data-server-0.7.1 tensorflow-2.13.0 tensorflow-estimator-2.13.0 tensorflow-macos-2.13.0 termcolor-2.3.0\n"
     ]
    }
   ],
   "source": [
    "!pip install tensorflow\n"
   ]
  },
  {
   "cell_type": "code",
   "execution_count": 4,
   "id": "df0c8a96",
   "metadata": {},
   "outputs": [],
   "source": [
    "\n",
    "import numpy as np\n",
    "import pandas as pd\n",
    "import tensorflow as tf\n",
    "from tensorflow.keras import layers, losses, Model\n",
    "from sklearn.preprocessing import MinMaxScaler\n",
    "from sklearn.model_selection import train_test_split\n",
    "from sklearn.metrics import mean_squared_error\n"
   ]
  },
  {
   "cell_type": "code",
   "execution_count": 6,
   "id": "f658404e",
   "metadata": {},
   "outputs": [],
   "source": [
    "\n",
    "# Load the data\n",
    "data_c7_1 = pd.read_csv(\"C7-1.csv\")\n",
    "data_c7_2 = pd.read_csv(\"C7-2.csv\")\n",
    "\n",
    "# Drop the \"Timestamp\" column\n",
    "data_c7_1 = data_c7_1.drop(columns=[\"Timestamp\"])\n",
    "data_c7_2 = data_c7_2.drop(columns=[\"Timestamp\"])\n",
    "\n",
    "# Normalize the data\n",
    "scaler = MinMaxScaler()\n",
    "data_c7_1_normalized = scaler.fit_transform(data_c7_1)\n",
    "data_c7_2_normalized = scaler.transform(data_c7_2)\n",
    "\n",
    "# Split the data from C7-1.csv into training and validation sets\n",
    "x_train, x_val = train_test_split(data_c7_1_normalized, test_size=0.2, random_state=42)\n"
   ]
  },
  {
   "cell_type": "code",
   "execution_count": 7,
   "id": "a62fa351",
   "metadata": {},
   "outputs": [],
   "source": [
    "\n",
    "# Define the autoencoder\n",
    "latent_dim = 10  # Adjust as needed\n",
    "\n",
    "class AnomalyAutoencoder(Model):\n",
    "    def __init__(self, latent_dim):\n",
    "        super(AnomalyAutoencoder, self).__init__()\n",
    "        self.latent_dim = latent_dim\n",
    "        self.encoder = tf.keras.Sequential([\n",
    "            layers.Dense(128, activation='relu'),\n",
    "            layers.Dense(64, activation='relu'),\n",
    "            layers.Dense(latent_dim, activation='relu')\n",
    "        ])\n",
    "        \n",
    "        self.decoder = tf.keras.Sequential([\n",
    "            layers.Dense(64, activation='relu'),\n",
    "            layers.Dense(128, activation='relu'),\n",
    "            layers.Dense(25, activation='sigmoid')  # 25 columns in the dataset\n",
    "        ])\n",
    "        \n",
    "    def call(self, x):\n",
    "        encoded = self.encoder(x)\n",
    "        decoded = self.decoder(encoded)\n",
    "        return decoded\n",
    "\n",
    "# Create and compile the autoencoder\n",
    "autoencoder = AnomalyAutoencoder(latent_dim)\n",
    "autoencoder.compile(optimizer='adam', loss=losses.MeanSquaredError())\n"
   ]
  },
  {
   "cell_type": "code",
   "execution_count": 8,
   "id": "18de73c4",
   "metadata": {},
   "outputs": [
    {
     "name": "stdout",
     "output_type": "stream",
     "text": [
      "Epoch 1/50\n",
      "425/425 [==============================] - 1s 826us/step - loss: 0.0109 - val_loss: 0.0021\n",
      "Epoch 2/50\n",
      "425/425 [==============================] - 0s 701us/step - loss: 0.0013 - val_loss: 9.1721e-04\n",
      "Epoch 3/50\n",
      "425/425 [==============================] - 0s 697us/step - loss: 6.6289e-04 - val_loss: 7.1766e-04\n",
      "Epoch 4/50\n",
      "425/425 [==============================] - 0s 700us/step - loss: 5.3642e-04 - val_loss: 6.1773e-04\n",
      "Epoch 5/50\n",
      "425/425 [==============================] - 0s 702us/step - loss: 4.6041e-04 - val_loss: 5.5581e-04\n",
      "Epoch 6/50\n",
      "425/425 [==============================] - 0s 701us/step - loss: 4.1372e-04 - val_loss: 4.6467e-04\n",
      "Epoch 7/50\n",
      "425/425 [==============================] - 0s 700us/step - loss: 3.7399e-04 - val_loss: 4.3900e-04\n",
      "Epoch 8/50\n",
      "425/425 [==============================] - 0s 690us/step - loss: 3.4302e-04 - val_loss: 4.3750e-04\n",
      "Epoch 9/50\n",
      "425/425 [==============================] - 0s 691us/step - loss: 3.1920e-04 - val_loss: 4.0370e-04\n",
      "Epoch 10/50\n",
      "425/425 [==============================] - 0s 688us/step - loss: 2.8030e-04 - val_loss: 3.8252e-04\n",
      "Epoch 11/50\n",
      "425/425 [==============================] - 0s 698us/step - loss: 2.5629e-04 - val_loss: 3.4208e-04\n",
      "Epoch 12/50\n",
      "425/425 [==============================] - 0s 688us/step - loss: 2.3298e-04 - val_loss: 3.0882e-04\n",
      "Epoch 13/50\n",
      "425/425 [==============================] - 0s 692us/step - loss: 2.1909e-04 - val_loss: 2.8592e-04\n",
      "Epoch 14/50\n",
      "425/425 [==============================] - 0s 688us/step - loss: 2.0680e-04 - val_loss: 2.7916e-04\n",
      "Epoch 15/50\n",
      "425/425 [==============================] - 0s 713us/step - loss: 1.9842e-04 - val_loss: 2.8125e-04\n",
      "Epoch 16/50\n",
      "425/425 [==============================] - 0s 690us/step - loss: 1.9772e-04 - val_loss: 2.6351e-04\n",
      "Epoch 17/50\n",
      "425/425 [==============================] - 0s 695us/step - loss: 1.8905e-04 - val_loss: 2.4237e-04\n",
      "Epoch 18/50\n",
      "425/425 [==============================] - 0s 696us/step - loss: 1.7832e-04 - val_loss: 2.4189e-04\n",
      "Epoch 19/50\n",
      "425/425 [==============================] - 0s 693us/step - loss: 1.7613e-04 - val_loss: 2.7082e-04\n",
      "Epoch 20/50\n",
      "425/425 [==============================] - 0s 695us/step - loss: 1.7245e-04 - val_loss: 2.4371e-04\n",
      "Epoch 21/50\n",
      "425/425 [==============================] - 0s 693us/step - loss: 1.6475e-04 - val_loss: 2.4380e-04\n",
      "Epoch 22/50\n",
      "425/425 [==============================] - 0s 707us/step - loss: 1.5500e-04 - val_loss: 2.7319e-04\n",
      "Epoch 23/50\n",
      "425/425 [==============================] - 0s 693us/step - loss: 1.5181e-04 - val_loss: 2.2991e-04\n",
      "Epoch 24/50\n",
      "425/425 [==============================] - 0s 697us/step - loss: 1.5487e-04 - val_loss: 2.2239e-04\n",
      "Epoch 25/50\n",
      "425/425 [==============================] - 0s 693us/step - loss: 1.4479e-04 - val_loss: 2.2339e-04\n",
      "Epoch 26/50\n",
      "425/425 [==============================] - 0s 718us/step - loss: 1.5016e-04 - val_loss: 2.4486e-04\n",
      "Epoch 27/50\n",
      "425/425 [==============================] - 0s 694us/step - loss: 1.3959e-04 - val_loss: 1.9665e-04\n",
      "Epoch 28/50\n",
      "425/425 [==============================] - 0s 691us/step - loss: 1.3196e-04 - val_loss: 1.9337e-04\n",
      "Epoch 29/50\n",
      "425/425 [==============================] - 0s 692us/step - loss: 1.3064e-04 - val_loss: 1.9769e-04\n",
      "Epoch 30/50\n",
      "425/425 [==============================] - 0s 687us/step - loss: 1.3044e-04 - val_loss: 2.1995e-04\n",
      "Epoch 31/50\n",
      "425/425 [==============================] - 0s 695us/step - loss: 1.3199e-04 - val_loss: 1.8292e-04\n",
      "Epoch 32/50\n",
      "425/425 [==============================] - 0s 694us/step - loss: 1.1906e-04 - val_loss: 1.7696e-04\n",
      "Epoch 33/50\n",
      "425/425 [==============================] - 0s 693us/step - loss: 1.1603e-04 - val_loss: 2.1269e-04\n",
      "Epoch 34/50\n",
      "425/425 [==============================] - 0s 689us/step - loss: 1.1664e-04 - val_loss: 1.7682e-04\n",
      "Epoch 35/50\n",
      "425/425 [==============================] - 0s 696us/step - loss: 1.1321e-04 - val_loss: 1.7209e-04\n",
      "Epoch 36/50\n",
      "425/425 [==============================] - 0s 694us/step - loss: 1.1197e-04 - val_loss: 1.8604e-04\n",
      "Epoch 37/50\n",
      "425/425 [==============================] - 0s 691us/step - loss: 1.0985e-04 - val_loss: 1.6592e-04\n",
      "Epoch 38/50\n",
      "425/425 [==============================] - 0s 689us/step - loss: 1.0670e-04 - val_loss: 3.1731e-04\n",
      "Epoch 39/50\n",
      "425/425 [==============================] - 0s 680us/step - loss: 1.1752e-04 - val_loss: 1.5780e-04\n",
      "Epoch 40/50\n",
      "425/425 [==============================] - 0s 667us/step - loss: 1.0155e-04 - val_loss: 1.5556e-04\n",
      "Epoch 41/50\n",
      "425/425 [==============================] - 0s 693us/step - loss: 1.0096e-04 - val_loss: 1.5398e-04\n",
      "Epoch 42/50\n",
      "425/425 [==============================] - 0s 679us/step - loss: 9.9808e-05 - val_loss: 1.5846e-04\n",
      "Epoch 43/50\n",
      "425/425 [==============================] - 0s 689us/step - loss: 1.0711e-04 - val_loss: 1.6754e-04\n",
      "Epoch 44/50\n",
      "425/425 [==============================] - 0s 677us/step - loss: 9.9930e-05 - val_loss: 1.4637e-04\n",
      "Epoch 45/50\n",
      "425/425 [==============================] - 0s 680us/step - loss: 1.0053e-04 - val_loss: 1.4316e-04\n",
      "Epoch 46/50\n",
      "425/425 [==============================] - 0s 677us/step - loss: 9.5141e-05 - val_loss: 1.6365e-04\n",
      "Epoch 47/50\n",
      "425/425 [==============================] - 0s 639us/step - loss: 9.6597e-05 - val_loss: 1.6645e-04\n",
      "Epoch 48/50\n",
      "425/425 [==============================] - 0s 615us/step - loss: 9.6379e-05 - val_loss: 1.4594e-04\n",
      "Epoch 49/50\n",
      "425/425 [==============================] - 0s 714us/step - loss: 9.6324e-05 - val_loss: 1.3800e-04\n",
      "Epoch 50/50\n",
      "425/425 [==============================] - 0s 743us/step - loss: 9.7321e-05 - val_loss: 1.8023e-04\n"
     ]
    },
    {
     "data": {
      "text/plain": [
       "<keras.src.callbacks.History at 0x17cd9f220>"
      ]
     },
     "execution_count": 8,
     "metadata": {},
     "output_type": "execute_result"
    }
   ],
   "source": [
    "\n",
    "# Train the autoencoder\n",
    "autoencoder.fit(x_train, x_train, epochs=50, batch_size=32, validation_data=(x_val, x_val))\n"
   ]
  },
  {
   "cell_type": "code",
   "execution_count": 9,
   "id": "7f06b8fd",
   "metadata": {},
   "outputs": [
    {
     "name": "stdout",
     "output_type": "stream",
     "text": [
      "1085/1085 [==============================] - 0s 264us/step\n"
     ]
    }
   ],
   "source": [
    "\n",
    "# Predict on the data from C7-2.csv\n",
    "reconstructions = autoencoder.predict(data_c7_2_normalized)\n",
    "\n",
    "# Calculate the Mean Squared Error for each reconstruction\n",
    "mse = np.mean(np.power(data_c7_2_normalized - reconstructions, 2), axis=1)\n",
    "\n",
    "# Set a threshold for anomaly detection (e.g., 95th percentile of the MSE on the training data)\n",
    "threshold = np.percentile(mse, 95)\n",
    "\n",
    "# Classify as normal (0) or anomaly (1)\n",
    "anomalies = np.where(mse > threshold, 1, 0)\n"
   ]
  },
  {
   "cell_type": "code",
   "execution_count": 13,
   "id": "868c6e38",
   "metadata": {},
   "outputs": [
    {
     "name": "stdout",
     "output_type": "stream",
     "text": [
      "INFO:tensorflow:Assets written to: anomaly_detection_model_dir/assets\n"
     ]
    },
    {
     "name": "stderr",
     "output_type": "stream",
     "text": [
      "INFO:tensorflow:Assets written to: anomaly_detection_model_dir/assets\n"
     ]
    }
   ],
   "source": [
    "autoencoder.save(\"anomaly_detection_model_dir\")"
   ]
  },
  {
   "cell_type": "code",
   "execution_count": 15,
   "id": "5bd147c2",
   "metadata": {},
   "outputs": [],
   "source": [
    "loaded_model = tf.keras.models.load_model(\"anomaly_detection_model_dir\")\n"
   ]
  },
  {
   "cell_type": "code",
   "execution_count": 23,
   "id": "51bb9948",
   "metadata": {},
   "outputs": [],
   "source": [
    "autoencoder.build(input_shape=(None, 25))  # 25 is the number of features in your dataset\n",
    "autoencoder.save_weights(\"anomaly_detection_weights.h5\")\n"
   ]
  },
  {
   "cell_type": "code",
   "execution_count": 24,
   "id": "b3095be2",
   "metadata": {},
   "outputs": [
    {
     "name": "stdout",
     "output_type": "stream",
     "text": [
      "/Users/ted\n"
     ]
    }
   ],
   "source": [
    "import os\n",
    "print(os.getcwd())\n"
   ]
  },
  {
   "cell_type": "code",
   "execution_count": 26,
   "id": "86372d67",
   "metadata": {},
   "outputs": [],
   "source": [
    "directory_path = \"/Users/ted/my_models/\"\n",
    "if not os.path.exists(directory_path):\n",
    "    os.makedirs(directory_path)\n",
    "autoencoder.save_weights(directory_path + \"anomaly_detection_weights.h5\")\n"
   ]
  },
  {
   "cell_type": "code",
   "execution_count": 27,
   "id": "d11cf571",
   "metadata": {},
   "outputs": [],
   "source": [
    "autoencoder.save_weights(\"anomaly_detection_weights.h5\")\n"
   ]
  },
  {
   "cell_type": "code",
   "execution_count": 28,
   "id": "83b34c2d",
   "metadata": {},
   "outputs": [
    {
     "data": {
      "text/plain": [
       "CompletedProcess(args=['open', '-R', '/Users/ted/anomaly_detection_weights.h5'], returncode=0)"
      ]
     },
     "execution_count": 28,
     "metadata": {},
     "output_type": "execute_result"
    }
   ],
   "source": [
    "import subprocess\n",
    "\n",
    "# Path to the file or directory you want to open\n",
    "path_to_open = \"/Users/ted/anomaly_detection_weights.h5\"\n",
    "\n",
    "# Open the path in Finder\n",
    "subprocess.run([\"open\", \"-R\", path_to_open])\n"
   ]
  },
  {
   "cell_type": "code",
   "execution_count": null,
   "id": "bf6761b4",
   "metadata": {},
   "outputs": [],
   "source": []
  }
 ],
 "metadata": {
  "kernelspec": {
   "display_name": "Python 3 (ipykernel)",
   "language": "python",
   "name": "python3"
  },
  "language_info": {
   "codemirror_mode": {
    "name": "ipython",
    "version": 3
   },
   "file_extension": ".py",
   "mimetype": "text/x-python",
   "name": "python",
   "nbconvert_exporter": "python",
   "pygments_lexer": "ipython3",
   "version": "3.10.9"
  }
 },
 "nbformat": 4,
 "nbformat_minor": 5
}
