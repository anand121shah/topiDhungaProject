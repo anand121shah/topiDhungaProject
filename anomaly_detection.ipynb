{
 "cells": [
  {
   "cell_type": "markdown",
   "id": "64ad1b61",
   "metadata": {},
   "source": [
    "# Anomaly Detection with Isolation Forest"
   ]
  },
  {
   "cell_type": "code",
   "execution_count": null,
   "id": "b5a275e6",
   "metadata": {},
   "outputs": [],
   "source": [
    "import zipfile\n",
    "import os\n",
    "import pandas as pd\n",
    "from sklearn.ensemble import IsolationForest\n",
    "from sklearn.preprocessing import StandardScaler\n",
    "import joblib\n"
   ]
  },
  {
   "cell_type": "markdown",
   "id": "79a16269",
   "metadata": {},
   "source": [
    "## Data Extraction"
   ]
  },
  {
   "cell_type": "code",
   "execution_count": null,
   "id": "dcff4137",
   "metadata": {},
   "outputs": [],
   "source": [
    "extract_dir = '/mnt/data/dataFolder'\n",
    "\n",
    "with zipfile.ZipFile('/mnt/data/dataFolder.zip', 'r') as zip_ref:\n",
    "    zip_ref.extractall(extract_dir)\n",
    "\n",
    "file_names = os.listdir(extract_dir)\n",
    "file_names\n"
   ]
  },
  {
   "cell_type": "markdown",
   "id": "6e2a282b",
   "metadata": {},
   "source": [
    "## Load and Concatenate CSV Files"
   ]
  },
  {
   "cell_type": "code",
   "execution_count": null,
   "id": "a625dfa2",
   "metadata": {},
   "outputs": [],
   "source": [
    "data_dir = os.path.join(extract_dir, 'dataFolder')\n",
    "data_file_names = os.listdir(data_dir)\n",
    "data_frames = {}\n",
    "\n",
    "for file_name in data_file_names:\n",
    "    file_path = os.path.join(data_dir, file_name)\n",
    "    df = pd.read_csv(file_path)\n",
    "    data_frames[file_name] = df\n",
    "\n",
    "combined_df = pd.concat(data_frames.values(), ignore_index=True)\n",
    "combined_df.head()\n"
   ]
  },
  {
   "cell_type": "markdown",
   "id": "9cc0feef",
   "metadata": {},
   "source": [
    "## Handle Missing Values"
   ]
  },
  {
   "cell_type": "code",
   "execution_count": null,
   "id": "625df4d5",
   "metadata": {},
   "outputs": [],
   "source": [
    "combined_df = combined_df.fillna(combined_df.mean())\n",
    "combined_df.isnull().sum()\n"
   ]
  },
  {
   "cell_type": "markdown",
   "id": "258184cb",
   "metadata": {},
   "source": [
    "## Train the Isolation Forest Model"
   ]
  },
  {
   "cell_type": "code",
   "execution_count": null,
   "id": "59496181",
   "metadata": {},
   "outputs": [],
   "source": [
    "scaler = StandardScaler()\n",
    "scaled_features = scaler.fit_transform(combined_df)\n",
    "model = IsolationForest(contamination=0.01)\n",
    "model.fit(scaled_features)\n"
   ]
  },
  {
   "cell_type": "markdown",
   "id": "3acc3816",
   "metadata": {},
   "source": [
    "## Save the Model"
   ]
  },
  {
   "cell_type": "code",
   "execution_count": null,
   "id": "af92bec7",
   "metadata": {},
   "outputs": [],
   "source": [
    "model_path = '/mnt/data/isolation_forest_model.pkl'\n",
    "scaler_path = '/mnt/data/standard_scaler.pkl'\n",
    "joblib.dump(model, model_path)\n",
    "joblib.dump(scaler, scaler_path)\n",
    "model_path, scaler_path\n"
   ]
  },
  {
   "cell_type": "markdown",
   "id": "8b0ab6f3",
   "metadata": {},
   "source": [
    "## Feature Engineering - PCA"
   ]
  },
  {
   "cell_type": "code",
   "execution_count": null,
   "id": "13040c25",
   "metadata": {},
   "outputs": [],
   "source": [
    "from sklearn.decomposition import PCA\n",
    "\n",
    "pca = PCA(n_components=2)\n",
    "principal_components = pca.fit_transform(scaled_features)\n",
    "\n",
    "principal_df = pd.DataFrame(data=principal_components, columns=['PC1', 'PC2'])\n",
    "principal_df.head()\n"
   ]
  },
  {
   "cell_type": "markdown",
   "id": "47af1feb",
   "metadata": {},
   "source": [
    "## Save the PCA object"
   ]
  },
  {
   "cell_type": "code",
   "execution_count": null,
   "id": "c8fc079d",
   "metadata": {},
   "outputs": [],
   "source": [
    "pca_path = '/mnt/data/pca.pkl'\n",
    "joblib.dump(pca, pca_path)\n",
    "pca_path\n"
   ]
  }
 ],
 "metadata": {},
 "nbformat": 4,
 "nbformat_minor": 5
}
