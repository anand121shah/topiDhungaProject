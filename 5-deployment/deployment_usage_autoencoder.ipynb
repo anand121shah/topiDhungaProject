{
 "cells": [
  {
   "cell_type": "markdown",
   "id": "d2f30dae",
   "metadata": {},
   "source": [
    "# Deployment and Usage of the Autoencoder Model\n",
    "\n",
    "This notebook demonstrates how to load the previously trained autoencoder model and use it for predictions.\n"
   ]
  },
  {
   "cell_type": "code",
   "execution_count": 12,
   "id": "4041e696",
   "metadata": {},
   "outputs": [],
   "source": [
    "import numpy as np\n",
    "import pandas as pd\n",
    "import tensorflow as tf\n"
   ]
  },
  {
   "cell_type": "code",
   "execution_count": 13,
   "id": "09a17bf9",
   "metadata": {},
   "outputs": [],
   "source": [
    "# Load the saved model\n",
    "model_path = \"anomaly_detection_model_dir\"\n",
    "loaded_model = tf.keras.models.load_model(model_path)\n"
   ]
  },
  {
   "cell_type": "markdown",
   "id": "09beb1c2",
   "metadata": {},
   "source": [
    "## Preparing Example Input Data\n",
    "\n",
    "For demonstration purposes, we'll use some example data. In a real-world scenario, you'd replace this with your actual input data.\n"
   ]
  },
  {
   "cell_type": "code",
   "execution_count": 14,
   "id": "1888bdc3",
   "metadata": {},
   "outputs": [],
   "source": [
    "# Creating dummy example data (with 25 features)\n",
    "example_data = np.random.rand(1, 25)\n"
   ]
  },
  {
   "cell_type": "markdown",
   "id": "89bc5596",
   "metadata": {},
   "source": [
    "## Making Predictions\n",
    "\n",
    "We'll now use the loaded model to make predictions on our example data.\n"
   ]
  },
  {
   "cell_type": "code",
   "execution_count": 15,
   "id": "5ed73a10",
   "metadata": {},
   "outputs": [
    {
     "name": "stdout",
     "output_type": "stream",
     "text": [
      "1/1 [==============================] - 0s 46ms/step\n"
     ]
    },
    {
     "data": {
      "text/plain": [
       "'normal'"
      ]
     },
     "execution_count": 15,
     "metadata": {},
     "output_type": "execute_result"
    }
   ],
   "source": [
    "# Predict using the loaded model\n",
    "reconstructed_data = loaded_model.predict(example_data)\n",
    "\n",
    "# Calculate the Mean Squared Error (MSE) as the reconstruction error\n",
    "mse = np.mean(np.square(example_data - reconstructed_data))\n",
    "\n",
    "# Define a threshold for anomaly detection (this is a hypothetical value and should be adjusted)\n",
    "threshold = 0.05  # Hypothetical threshold, adjust based on your data\n",
    "\n",
    "# Determine if the data is normal or anomalous\n",
    "anomaly_status = \"anomalous\" if mse < threshold else \"normal\"\n",
    "anomaly_status"
   ]
  },
  {
   "cell_type": "code",
   "execution_count": null,
   "id": "2370b452",
   "metadata": {},
   "outputs": [],
   "source": []
  }
 ],
 "metadata": {
  "kernelspec": {
   "display_name": "Python 3 (ipykernel)",
   "language": "python",
   "name": "python3"
  },
  "language_info": {
   "codemirror_mode": {
    "name": "ipython",
    "version": 3
   },
   "file_extension": ".py",
   "mimetype": "text/x-python",
   "name": "python",
   "nbconvert_exporter": "python",
   "pygments_lexer": "ipython3",
   "version": "3.10.9"
  }
 },
 "nbformat": 4,
 "nbformat_minor": 5
}
