{
 "cells": [
  {
   "cell_type": "markdown",
   "id": "10a26e54",
   "metadata": {},
   "source": [
    "# Testing the Isolation Forest Model and PCA"
   ]
  },
  {
   "cell_type": "code",
   "execution_count": null,
   "id": "6f9b0458",
   "metadata": {},
   "outputs": [],
   "source": [
    "import pandas as pd\n",
    "from sklearn.preprocessing import StandardScaler\n",
    "from sklearn.decomposition import PCA\n",
    "from sklearn.ensemble import IsolationForest\n",
    "import joblib\n"
   ]
  },
  {
   "cell_type": "markdown",
   "id": "539cc14e",
   "metadata": {},
   "source": [
    "## Load the Models"
   ]
  },
  {
   "cell_type": "code",
   "execution_count": null,
   "id": "c8312b0f",
   "metadata": {},
   "outputs": [],
   "source": [
    "model = joblib.load('isolation_forest_model.pkl')\n",
    "scaler = joblib.load('standard_scaler.pkl')\n",
    "pca = joblib.load('pca.pkl')\n"
   ]
  },
  {
   "cell_type": "markdown",
   "id": "1e4f8fef",
   "metadata": {},
   "source": [
    "## Example New Data"
   ]
  },
  {
   "cell_type": "code",
   "execution_count": null,
   "id": "2983fa4b",
   "metadata": {},
   "outputs": [],
   "source": [
    "new_data = pd.DataFrame({\n",
    "    'L_1': [0.32],\n",
    "    'L_2': [0.24],\n",
    "    'A_1': [0.11],\n",
    "    'A_2': [0.76],\n",
    "    'B_1': [0.97],\n",
    "    'B_2': [0.65],\n",
    "    #... ensure all features are included here\n",
    "})\n",
    "new_data\n"
   ]
  },
  {
   "cell_type": "markdown",
   "id": "2e55944c",
   "metadata": {},
   "source": [
    "## Preprocess the New Data"
   ]
  },
  {
   "cell_type": "code",
   "execution_count": null,
   "id": "c88958a9",
   "metadata": {},
   "outputs": [],
   "source": [
    "new_data = new_data.fillna(new_data.mean())  # fill missing values\n",
    "scaled_new_data = scaler.transform(new_data)  # scale the data\n",
    "scaled_new_data\n"
   ]
  },
  {
   "cell_type": "markdown",
   "id": "a9101eea",
   "metadata": {},
   "source": [
    "## Predict Anomalies with the Isolation Forest Model"
   ]
  },
  {
   "cell_type": "code",
   "execution_count": null,
   "id": "939e0c2d",
   "metadata": {},
   "outputs": [],
   "source": [
    "predictions = model.predict(scaled_new_data)\n",
    "predictions\n"
   ]
  },
  {
   "cell_type": "markdown",
   "id": "ef9d3df7",
   "metadata": {},
   "source": [
    "## Apply PCA to the New Data"
   ]
  },
  {
   "cell_type": "code",
   "execution_count": null,
   "id": "0f86f4d7",
   "metadata": {},
   "outputs": [],
   "source": [
    "principal_components = pca.transform(scaled_new_data)\n",
    "principal_components\n"
   ]
  }
 ],
 "metadata": {},
 "nbformat": 4,
 "nbformat_minor": 5
}
